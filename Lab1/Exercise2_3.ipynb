{
 "cells": [
  {
   "cell_type": "markdown",
   "source": [
    "# Exercise 2.3: *Explain* the predictions of a CNN\n",
    "This notebook provides an implementation for GradCAM as presented in [Grad-CAM: Visual Explanations from Deep Networks via Gradient-based Localization](https://arxiv.org/abs/1610.02391).\n",
    "GradCAM provides us with a way to look into what particular parts of the image influenced the whole model’s decision for a specifically assigned label. The main idea exploits the gradient information. It starts with finding the gradient of the most dominant logit with respect to the latest activation map in the model.  We can interpret this as some encoded features that ended up activated in the final activation map persuaded the model as a whole to choose that particular logit. The gradients are then pooled channel-wise, and the activation channels are weighted with the corresponding gradients, yielding the collection of weighted activation channels. By inspecting these channels, we can tell which ones played the most significant role in the decision of the class."
   ],
   "metadata": {
    "collapsed": false
   },
   "id": "a0075cc15d98bf70"
  },
  {
   "cell_type": "markdown",
   "source": [
    "### First we trained a model on CIFAR10 to be evaluated\n",
    "#### Standard imports"
   ],
   "metadata": {
    "collapsed": false
   },
   "id": "7ecc4866e6fec1a1"
  },
  {
   "cell_type": "code",
   "outputs": [],
   "source": [
    "import numpy as np\n",
    "import matplotlib.pyplot as plt\n",
    "from functools import reduce\n",
    "import torch\n",
    "from torch.utils.tensorboard import SummaryWriter\n",
    "import wandb\n",
    "from torchvision.datasets import MNIST\n",
    "from torch.utils.data import Subset\n",
    "import torch.nn as nn\n",
    "import torch.nn.functional as F\n",
    "import torchvision\n",
    "import torchvision.transforms as transforms\n",
    "import wandb\n",
    "from typing import Any, Callable, List, Optional, Type, Union\n",
    "from torch import Tensor\n",
    "import cv2"
   ],
   "metadata": {
    "collapsed": false,
    "ExecuteTime": {
     "end_time": "2024-05-11T08:39:57.635086200Z",
     "start_time": "2024-05-11T08:39:38.162836800Z"
    }
   },
   "id": "95299912dcc3fe9c",
   "execution_count": 1
  },
  {
   "cell_type": "markdown",
   "source": [
    "#### Training hyperparameters."
   ],
   "metadata": {
    "collapsed": false
   },
   "id": "f42963893453c7da"
  },
  {
   "cell_type": "code",
   "outputs": [],
   "source": [
    "batch_size = 64\n",
    "lr = 0.01\n",
    "momentum=0.9\n",
    "weight_decay=1e-04\n",
    "epochs = 25\n",
    "criterion = nn.CrossEntropyLoss()\n",
    "if torch.cuda.is_available():\n",
    "    device = torch.device(\"cuda\") # to use the GPU\n",
    "else:\n",
    "    device = torch.device(\"cpu\")"
   ],
   "metadata": {
    "collapsed": false,
    "ExecuteTime": {
     "end_time": "2024-05-11T08:39:58.738614200Z",
     "start_time": "2024-05-11T08:39:57.633081500Z"
    }
   },
   "id": "f383202d66983727",
   "execution_count": 2
  },
  {
   "cell_type": "markdown",
   "source": [
    "#### Data preparation\n",
    "\n",
    "Dataset loading, validation splitting code for CIFAR10."
   ],
   "metadata": {
    "collapsed": false
   },
   "id": "668d99e658ee4a9b"
  },
  {
   "cell_type": "code",
   "outputs": [
    {
     "name": "stdout",
     "output_type": "stream",
     "text": [
      "Files already downloaded and verified\n",
      "Files already downloaded and verified\n"
     ]
    }
   ],
   "source": [
    "transform_train = transforms.Compose([\n",
    "    transforms.RandomCrop(32, padding=4),  \n",
    "    transforms.RandomHorizontalFlip(), \n",
    "    transforms.ToTensor(),\n",
    "    transforms.Normalize((0.4914, 0.4822, 0.4465), (0.2023, 0.1994, 0.2010)),\n",
    "])\n",
    "\n",
    "transform_test = transforms.Compose([\n",
    "    transforms.ToTensor(),\n",
    "    transforms.Normalize((0.4914, 0.4822, 0.4465), (0.2023, 0.1994, 0.2010)),\n",
    "])\n",
    "\n",
    "dataset = torchvision.datasets.CIFAR10(root='./data', train=True,\n",
    "                                        download=True, transform=transform_train)\n",
    "# create a split for train/validation. We can use early stop\n",
    "trainset, valset = torch.utils.data.random_split(dataset, [40000, 10000])  # train (40000 images) e validation (10000 images)\n",
    "\n",
    "trainloader = torch.utils.data.DataLoader(trainset, batch_size=batch_size,\n",
    "                                          shuffle=True, num_workers=2,\n",
    "                                          drop_last=True)\n",
    "valloader = torch.utils.data.DataLoader(valset, batch_size=batch_size,\n",
    "                                          shuffle=False, num_workers=2,\n",
    "                                          drop_last=False)\n",
    "\n",
    "testset = torchvision.datasets.CIFAR10(root='./data', train=False,\n",
    "                                       download=True, transform=transform_test)\n",
    "testloader = torch.utils.data.DataLoader(testset, batch_size=batch_size,\n",
    "                                         shuffle=False, num_workers=2,\n",
    "                                          drop_last=False)"
   ],
   "metadata": {
    "collapsed": false,
    "ExecuteTime": {
     "end_time": "2024-05-11T08:40:57.018920600Z",
     "start_time": "2024-05-11T08:40:53.433401500Z"
    }
   },
   "id": "777bed1fc9a7d023",
   "execution_count": 3
  },
  {
   "cell_type": "markdown",
   "source": [
    "#### Training and evaluation Functions \n",
    "\n",
    "Training, evaluation, and plotting code."
   ],
   "metadata": {
    "collapsed": false
   },
   "id": "c0b6a605b9ed12d0"
  },
  {
   "cell_type": "code",
   "outputs": [],
   "source": [
    "from tqdm import tqdm\n",
    "from sklearn.metrics import accuracy_score, classification_report\n",
    "\n",
    "# Function to train a model for a single epoch over the data loader.\n",
    "def train_epoch(model, dl, opt, epoch='Unknown', device='cpu'):\n",
    "    model.train()\n",
    "    losses = []\n",
    "    for (xs, ys) in tqdm(dl, desc=f'Training epoch {epoch}', leave=False):\n",
    "        xs = xs.to(device)\n",
    "        ys = ys.to(device)\n",
    "        opt.zero_grad()\n",
    "        logits = model(xs)\n",
    "        loss = criterion(logits, ys)\n",
    "        loss.backward()\n",
    "        opt.step()   \n",
    "        losses.append(loss.item())\n",
    "    return loss.item()\n",
    "\n",
    "# Function to evaluate model over all samples in the data loader.\n",
    "def evaluate_model(model, dl, device='cpu'):\n",
    "    model.eval()\n",
    "    test_loss = 0\n",
    "    predictions = []\n",
    "    gts = []\n",
    "    for (xs, ys) in tqdm(dl, desc='Evaluating', leave=False):\n",
    "        xs = xs.to(device)\n",
    "        output = model(xs)\n",
    "        preds = torch.argmax(output, dim=1)\n",
    "        test_loss += F.cross_entropy(output, ys.to(device)).item()\n",
    "        gts.append(ys)\n",
    "        predictions.append(preds.detach().cpu().numpy()) \n",
    "\n",
    "    return (accuracy_score(np.hstack(gts), np.hstack(predictions)),\n",
    "            classification_report(np.hstack(gts), np.hstack(predictions), zero_division=0, digits=3))\n",
    "\n",
    "\n",
    "# Simple function to plot the loss curve and validation accuracy.\n",
    "def plot_validation_curves(losses_and_accs):\n",
    "    losses = [x for (x, _) in losses_and_accs]\n",
    "    accs = [x for (_, x) in losses_and_accs]\n",
    "    plt.figure(figsize=(16, 8))\n",
    "    plt.subplot(1, 2, 1)\n",
    "    plt.plot(losses)\n",
    "    plt.xlabel('Epoch')\n",
    "    plt.ylabel('Loss')\n",
    "    plt.title('Average Training Loss per Epoch')\n",
    "    plt.subplot(1, 2, 2)\n",
    "    plt.plot(accs)\n",
    "    plt.xlabel('Epoch')\n",
    "    plt.ylabel('Validation Accuracy')\n",
    "    plt.title(f'Best Accuracy = {np.max(accs)} @ epoch {np.argmax(accs)}')\n",
    "    "
   ],
   "metadata": {
    "collapsed": false,
    "ExecuteTime": {
     "end_time": "2024-05-11T08:41:01.017984600Z",
     "start_time": "2024-05-11T08:40:58.785969400Z"
    }
   },
   "id": "30ac5863d3f80625",
   "execution_count": 4
  },
  {
   "cell_type": "markdown",
   "source": [
    "#### Basic code for 3x3 and 1x1 convolutions"
   ],
   "metadata": {
    "collapsed": false
   },
   "id": "6d2b1ab86decbd3e"
  },
  {
   "cell_type": "code",
   "outputs": [],
   "source": [
    "def conv3x3(in_planes: int, out_planes: int, stride: int = 1, groups: int = 1, dilation: int = 1) -> nn.Conv2d:\n",
    "    \"\"\"3x3 convolution with padding\"\"\"\n",
    "    return nn.Conv2d(\n",
    "        in_planes,\n",
    "        out_planes,\n",
    "        kernel_size=3,\n",
    "        stride=stride,\n",
    "        padding=dilation,\n",
    "        groups=groups,\n",
    "        bias=False,\n",
    "        dilation=dilation,\n",
    "    )\n",
    "\n",
    "\n",
    "def conv1x1(in_planes: int, out_planes: int, stride: int = 1) -> nn.Conv2d:\n",
    "    \"\"\"1x1 convolution\"\"\"\n",
    "    return nn.Conv2d(in_planes, out_planes, kernel_size=1, stride=stride, bias=False)"
   ],
   "metadata": {
    "collapsed": false,
    "ExecuteTime": {
     "end_time": "2024-05-11T08:41:02.067971600Z",
     "start_time": "2024-05-11T08:41:01.994973200Z"
    }
   },
   "id": "1297da7e3bde7962",
   "execution_count": 5
  },
  {
   "cell_type": "markdown",
   "source": [
    "#### Convolutional Block for ConvNet and ResNet"
   ],
   "metadata": {
    "collapsed": false
   },
   "id": "965fcfeac9642c92"
  },
  {
   "cell_type": "code",
   "outputs": [],
   "source": [
    "class BasicBlock(nn.Module):\n",
    "    expansion: int = 1\n",
    "\n",
    "    def __init__(\n",
    "        self,\n",
    "        inplanes: int,\n",
    "        planes: int,\n",
    "        stride: int = 1,\n",
    "        downsample: Optional[nn.Module] = None,\n",
    "        norm_layer: Optional[Callable[..., nn.Module]] = None,\n",
    "        skip: bool = False\n",
    "    ) -> None:\n",
    "        super().__init__()\n",
    "        if norm_layer is None:\n",
    "            norm_layer = nn.BatchNorm2d\n",
    "        # Both self.conv1 and self.downsample layers downsample the input when stride != 1\n",
    "        self.conv1 = conv3x3(inplanes, planes, stride)\n",
    "        self.bn1 = norm_layer(planes)\n",
    "        self.relu = nn.ReLU(inplace=True)\n",
    "        self.conv2 = conv3x3(planes, planes)\n",
    "        self.bn2 = norm_layer(planes)\n",
    "        self.skip = skip\n",
    "        self.downsample = None\n",
    "        if self.skip:\n",
    "            self.downsample = downsample\n",
    "        self.stride = stride\n",
    "\n",
    "    def forward(self, x: Tensor) -> Tensor:\n",
    "        identity = x\n",
    "\n",
    "        out = self.conv1(x)\n",
    "        out = self.bn1(out)\n",
    "        out = self.relu(out)\n",
    "\n",
    "        out = self.conv2(out)\n",
    "        out = self.bn2(out)\n",
    "        \n",
    "        if self.skip:\n",
    "            if self.downsample is not None:\n",
    "                identity = self.downsample(x)\n",
    "            out += identity\n",
    "        \n",
    "        out = self.relu(out)\n",
    "\n",
    "        return out"
   ],
   "metadata": {
    "collapsed": false,
    "ExecuteTime": {
     "end_time": "2024-05-11T08:41:03.435974600Z",
     "start_time": "2024-05-11T08:41:03.326976700Z"
    }
   },
   "id": "cad219a679daa01",
   "execution_count": 6
  },
  {
   "cell_type": "markdown",
   "source": [
    "#### Main model backbone"
   ],
   "metadata": {
    "collapsed": false
   },
   "id": "73e5b164ab7ebe2d"
  },
  {
   "cell_type": "code",
   "outputs": [],
   "source": [
    "class ConvNet(nn.Module):\n",
    "    def __init__(\n",
    "        self,\n",
    "        layers: List[int],\n",
    "        num_classes: int = 10,\n",
    "        zero_init_residual: bool = False,\n",
    "        skip: bool = False,\n",
    "        replace_stride_with_dilation: Optional[List[bool]] = None,\n",
    "        norm_layer: Optional[Callable[..., nn.Module]] = None,\n",
    "        \n",
    "    ) -> None:\n",
    "        super().__init__()\n",
    "        if norm_layer is None:\n",
    "            norm_layer = nn.BatchNorm2d\n",
    "        self._norm_layer = norm_layer\n",
    "\n",
    "        self.inplanes = 64\n",
    "        self.dilation = 1\n",
    "        if replace_stride_with_dilation is None:\n",
    "            # each element in the tuple indicates if we should replace\n",
    "            # the 2x2 stride with a dilated convolution instead\n",
    "            replace_stride_with_dilation = [False, False, False]\n",
    "        if len(replace_stride_with_dilation) != 3:\n",
    "            raise ValueError(\n",
    "                \"replace_stride_with_dilation should be None \"\n",
    "                f\"or a 3-element tuple, got {replace_stride_with_dilation}\"\n",
    "            )\n",
    "        self.skip = skip\n",
    "        self.stem = nn.Sequential(\n",
    "            nn.Conv2d(3, self.inplanes, kernel_size=3, stride=1, padding=1, bias=False),\n",
    "            norm_layer(self.inplanes),\n",
    "            nn.ReLU(inplace=True))\n",
    "        self.layer1 = self._make_layer(24, layers[0])\n",
    "        self.layer2 = self._make_layer(48, layers[1], stride=2, dilate=replace_stride_with_dilation[0])\n",
    "        self.layer3 = self._make_layer(96, layers[2], stride=2, dilate=replace_stride_with_dilation[1])\n",
    "        self.layer4 = self._make_layer(192, layers[3], stride=2, dilate=replace_stride_with_dilation[2])\n",
    "        self.avgpool = nn.AdaptiveAvgPool2d((1, 1))\n",
    "        self.fc = nn.Linear(192 * BasicBlock.expansion, num_classes)\n",
    "\n",
    "        for m in self.modules():\n",
    "            if isinstance(m, nn.Conv2d):\n",
    "                nn.init.kaiming_normal_(m.weight, mode=\"fan_out\", nonlinearity=\"relu\")\n",
    "            elif isinstance(m, (nn.BatchNorm2d, nn.GroupNorm)):\n",
    "                nn.init.constant_(m.weight, 1)\n",
    "                nn.init.constant_(m.bias, 0)\n",
    "\n",
    "        # Zero-initialize the last BN in each residual branch,\n",
    "        # so that the residual branch starts with zeros, and each residual block behaves like an identity.\n",
    "        # This improves the model by 0.2~0.3% according to https://arxiv.org/abs/1706.02677\n",
    "        if zero_init_residual:\n",
    "            for m in self.modules():\n",
    "                if m.bn2.weight is not None:\n",
    "                    nn.init.constant_(m.bn2.weight, 0)  # type: ignore[arg-type]\n",
    "\n",
    "    def _make_layer(\n",
    "        self,\n",
    "        planes: int,\n",
    "        blocks: int,\n",
    "        stride: int = 1,\n",
    "        dilate: bool = False,\n",
    "    ) -> nn.Sequential:\n",
    "        norm_layer = self._norm_layer\n",
    "        downsample = None\n",
    "        previous_dilation = self.dilation\n",
    "        if dilate:\n",
    "            self.dilation *= stride\n",
    "            stride = 1\n",
    "        if stride != 1 or self.inplanes != planes * BasicBlock.expansion:\n",
    "            downsample = nn.Sequential(\n",
    "                conv1x1(self.inplanes, planes * BasicBlock.expansion, stride),\n",
    "                norm_layer(planes * BasicBlock.expansion),\n",
    "            )\n",
    "\n",
    "        layers = []\n",
    "        layers.append(\n",
    "            BasicBlock(\n",
    "                self.inplanes, planes, stride, downsample, norm_layer, self.skip)\n",
    "        )\n",
    "        self.inplanes = planes * BasicBlock.expansion\n",
    "        for _ in range(1, blocks):\n",
    "            layers.append(\n",
    "                BasicBlock(\n",
    "                    self.inplanes,\n",
    "                    planes,\n",
    "                    norm_layer=norm_layer,\n",
    "                    skip=self.skip\n",
    "                )\n",
    "            )\n",
    "\n",
    "        return nn.Sequential(*layers)\n",
    "\n",
    "    def _forward_impl(self, x: Tensor) -> Tensor:\n",
    "        # See note [TorchScript super()]\n",
    "        x = self.stem(x)\n",
    "\n",
    "        x = self.layer1(x)\n",
    "        x = self.layer2(x)\n",
    "        x = self.layer3(x)\n",
    "        x = self.layer4(x)\n",
    "\n",
    "        x = self.avgpool(x)\n",
    "        x = torch.flatten(x, 1)\n",
    "        x = self.fc(x)\n",
    "\n",
    "        return x\n",
    "\n",
    "    def forward(self, x: Tensor) -> Tensor:\n",
    "        return self._forward_impl(x)"
   ],
   "metadata": {
    "collapsed": false,
    "ExecuteTime": {
     "end_time": "2024-05-11T08:41:04.710974800Z",
     "start_time": "2024-05-11T08:41:04.585972200Z"
    }
   },
   "id": "5696b89821db15e6",
   "execution_count": 7
  },
  {
   "cell_type": "code",
   "outputs": [],
   "source": [
    "def _convnet(\n",
    "    layers: List[int],\n",
    "    num_classes: int,\n",
    "    skip: bool = False,\n",
    "    **kwargs: Any,\n",
    ") -> ConvNet:\n",
    "\n",
    "    model = ConvNet(layers, num_classes, False, skip, **kwargs)\n",
    "\n",
    "    return model"
   ],
   "metadata": {
    "collapsed": false,
    "ExecuteTime": {
     "end_time": "2024-05-11T08:41:05.660972900Z",
     "start_time": "2024-05-11T08:41:05.561970200Z"
    }
   },
   "id": "475f1e0263c5fec6",
   "execution_count": 8
  },
  {
   "cell_type": "markdown",
   "source": [
    "#### Models\n",
    "We applied GradCAM on a ConvNet model made up of [1, 1, 2, 1] blocks with increasing dimensions [24, 48, 96, 192]."
   ],
   "metadata": {
    "collapsed": false
   },
   "id": "934dfd80d6a5791"
  },
  {
   "cell_type": "code",
   "outputs": [],
   "source": [
    "def small_convnet(num_classes) -> ConvNet:\n",
    "    return _convnet([1, 1, 2, 1], num_classes, skip=False)\n",
    "def small_resnet(num_classes) -> ConvNet:\n",
    "    return _convnet([2, 2, 4, 2], num_classes, skip=True)"
   ],
   "metadata": {
    "collapsed": false,
    "ExecuteTime": {
     "end_time": "2024-05-11T08:41:07.548972300Z",
     "start_time": "2024-05-11T08:41:07.513971900Z"
    }
   },
   "id": "75968af6f34646fd",
   "execution_count": 9
  },
  {
   "cell_type": "code",
   "outputs": [
    {
     "name": "stdout",
     "output_type": "stream",
     "text": [
      "ConvNet(\n",
      "  (stem): Sequential(\n",
      "    (0): Conv2d(3, 64, kernel_size=(3, 3), stride=(1, 1), padding=(1, 1), bias=False)\n",
      "    (1): BatchNorm2d(64, eps=1e-05, momentum=0.1, affine=True, track_running_stats=True)\n",
      "    (2): ReLU(inplace=True)\n",
      "  )\n",
      "  (layer1): Sequential(\n",
      "    (0): BasicBlock(\n",
      "      (conv1): Conv2d(64, 24, kernel_size=(3, 3), stride=(1, 1), padding=(1, 1), bias=False)\n",
      "      (bn1): BatchNorm2d(24, eps=1e-05, momentum=0.1, affine=True, track_running_stats=True)\n",
      "      (relu): ReLU(inplace=True)\n",
      "      (conv2): Conv2d(24, 24, kernel_size=(3, 3), stride=(1, 1), padding=(1, 1), bias=False)\n",
      "      (bn2): BatchNorm2d(24, eps=1e-05, momentum=0.1, affine=True, track_running_stats=True)\n",
      "    )\n",
      "  )\n",
      "  (layer2): Sequential(\n",
      "    (0): BasicBlock(\n",
      "      (conv1): Conv2d(24, 48, kernel_size=(3, 3), stride=(2, 2), padding=(1, 1), bias=False)\n",
      "      (bn1): BatchNorm2d(48, eps=1e-05, momentum=0.1, affine=True, track_running_stats=True)\n",
      "      (relu): ReLU(inplace=True)\n",
      "      (conv2): Conv2d(48, 48, kernel_size=(3, 3), stride=(1, 1), padding=(1, 1), bias=False)\n",
      "      (bn2): BatchNorm2d(48, eps=1e-05, momentum=0.1, affine=True, track_running_stats=True)\n",
      "    )\n",
      "  )\n",
      "  (layer3): Sequential(\n",
      "    (0): BasicBlock(\n",
      "      (conv1): Conv2d(48, 96, kernel_size=(3, 3), stride=(2, 2), padding=(1, 1), bias=False)\n",
      "      (bn1): BatchNorm2d(96, eps=1e-05, momentum=0.1, affine=True, track_running_stats=True)\n",
      "      (relu): ReLU(inplace=True)\n",
      "      (conv2): Conv2d(96, 96, kernel_size=(3, 3), stride=(1, 1), padding=(1, 1), bias=False)\n",
      "      (bn2): BatchNorm2d(96, eps=1e-05, momentum=0.1, affine=True, track_running_stats=True)\n",
      "    )\n",
      "    (1): BasicBlock(\n",
      "      (conv1): Conv2d(96, 96, kernel_size=(3, 3), stride=(1, 1), padding=(1, 1), bias=False)\n",
      "      (bn1): BatchNorm2d(96, eps=1e-05, momentum=0.1, affine=True, track_running_stats=True)\n",
      "      (relu): ReLU(inplace=True)\n",
      "      (conv2): Conv2d(96, 96, kernel_size=(3, 3), stride=(1, 1), padding=(1, 1), bias=False)\n",
      "      (bn2): BatchNorm2d(96, eps=1e-05, momentum=0.1, affine=True, track_running_stats=True)\n",
      "    )\n",
      "  )\n",
      "  (layer4): Sequential(\n",
      "    (0): BasicBlock(\n",
      "      (conv1): Conv2d(96, 192, kernel_size=(3, 3), stride=(2, 2), padding=(1, 1), bias=False)\n",
      "      (bn1): BatchNorm2d(192, eps=1e-05, momentum=0.1, affine=True, track_running_stats=True)\n",
      "      (relu): ReLU(inplace=True)\n",
      "      (conv2): Conv2d(192, 192, kernel_size=(3, 3), stride=(1, 1), padding=(1, 1), bias=False)\n",
      "      (bn2): BatchNorm2d(192, eps=1e-05, momentum=0.1, affine=True, track_running_stats=True)\n",
      "    )\n",
      "  )\n",
      "  (avgpool): AdaptiveAvgPool2d(output_size=(1, 1))\n",
      "  (fc): Linear(in_features=192, out_features=10, bias=True)\n",
      ")\n"
     ]
    }
   ],
   "source": [
    "convnet = small_convnet(10)\n",
    "print(convnet)"
   ],
   "metadata": {
    "collapsed": false,
    "ExecuteTime": {
     "end_time": "2024-05-11T08:41:08.724973100Z",
     "start_time": "2024-05-11T08:41:08.586974300Z"
    }
   },
   "id": "eb46408a9934cd5b",
   "execution_count": 10
  },
  {
   "cell_type": "code",
   "outputs": [
    {
     "name": "stdout",
     "output_type": "stream",
     "text": [
      "ConvNet(\n",
      "  (stem): Sequential(\n",
      "    (0): Conv2d(3, 64, kernel_size=(3, 3), stride=(1, 1), padding=(1, 1), bias=False)\n",
      "    (1): BatchNorm2d(64, eps=1e-05, momentum=0.1, affine=True, track_running_stats=True)\n",
      "    (2): ReLU(inplace=True)\n",
      "  )\n",
      "  (layer1): Sequential(\n",
      "    (0): BasicBlock(\n",
      "      (conv1): Conv2d(64, 24, kernel_size=(3, 3), stride=(1, 1), padding=(1, 1), bias=False)\n",
      "      (bn1): BatchNorm2d(24, eps=1e-05, momentum=0.1, affine=True, track_running_stats=True)\n",
      "      (relu): ReLU(inplace=True)\n",
      "      (conv2): Conv2d(24, 24, kernel_size=(3, 3), stride=(1, 1), padding=(1, 1), bias=False)\n",
      "      (bn2): BatchNorm2d(24, eps=1e-05, momentum=0.1, affine=True, track_running_stats=True)\n",
      "      (downsample): Sequential(\n",
      "        (0): Conv2d(64, 24, kernel_size=(1, 1), stride=(1, 1), bias=False)\n",
      "        (1): BatchNorm2d(24, eps=1e-05, momentum=0.1, affine=True, track_running_stats=True)\n",
      "      )\n",
      "    )\n",
      "    (1): BasicBlock(\n",
      "      (conv1): Conv2d(24, 24, kernel_size=(3, 3), stride=(1, 1), padding=(1, 1), bias=False)\n",
      "      (bn1): BatchNorm2d(24, eps=1e-05, momentum=0.1, affine=True, track_running_stats=True)\n",
      "      (relu): ReLU(inplace=True)\n",
      "      (conv2): Conv2d(24, 24, kernel_size=(3, 3), stride=(1, 1), padding=(1, 1), bias=False)\n",
      "      (bn2): BatchNorm2d(24, eps=1e-05, momentum=0.1, affine=True, track_running_stats=True)\n",
      "    )\n",
      "  )\n",
      "  (layer2): Sequential(\n",
      "    (0): BasicBlock(\n",
      "      (conv1): Conv2d(24, 48, kernel_size=(3, 3), stride=(2, 2), padding=(1, 1), bias=False)\n",
      "      (bn1): BatchNorm2d(48, eps=1e-05, momentum=0.1, affine=True, track_running_stats=True)\n",
      "      (relu): ReLU(inplace=True)\n",
      "      (conv2): Conv2d(48, 48, kernel_size=(3, 3), stride=(1, 1), padding=(1, 1), bias=False)\n",
      "      (bn2): BatchNorm2d(48, eps=1e-05, momentum=0.1, affine=True, track_running_stats=True)\n",
      "      (downsample): Sequential(\n",
      "        (0): Conv2d(24, 48, kernel_size=(1, 1), stride=(2, 2), bias=False)\n",
      "        (1): BatchNorm2d(48, eps=1e-05, momentum=0.1, affine=True, track_running_stats=True)\n",
      "      )\n",
      "    )\n",
      "    (1): BasicBlock(\n",
      "      (conv1): Conv2d(48, 48, kernel_size=(3, 3), stride=(1, 1), padding=(1, 1), bias=False)\n",
      "      (bn1): BatchNorm2d(48, eps=1e-05, momentum=0.1, affine=True, track_running_stats=True)\n",
      "      (relu): ReLU(inplace=True)\n",
      "      (conv2): Conv2d(48, 48, kernel_size=(3, 3), stride=(1, 1), padding=(1, 1), bias=False)\n",
      "      (bn2): BatchNorm2d(48, eps=1e-05, momentum=0.1, affine=True, track_running_stats=True)\n",
      "    )\n",
      "  )\n",
      "  (layer3): Sequential(\n",
      "    (0): BasicBlock(\n",
      "      (conv1): Conv2d(48, 96, kernel_size=(3, 3), stride=(2, 2), padding=(1, 1), bias=False)\n",
      "      (bn1): BatchNorm2d(96, eps=1e-05, momentum=0.1, affine=True, track_running_stats=True)\n",
      "      (relu): ReLU(inplace=True)\n",
      "      (conv2): Conv2d(96, 96, kernel_size=(3, 3), stride=(1, 1), padding=(1, 1), bias=False)\n",
      "      (bn2): BatchNorm2d(96, eps=1e-05, momentum=0.1, affine=True, track_running_stats=True)\n",
      "      (downsample): Sequential(\n",
      "        (0): Conv2d(48, 96, kernel_size=(1, 1), stride=(2, 2), bias=False)\n",
      "        (1): BatchNorm2d(96, eps=1e-05, momentum=0.1, affine=True, track_running_stats=True)\n",
      "      )\n",
      "    )\n",
      "    (1): BasicBlock(\n",
      "      (conv1): Conv2d(96, 96, kernel_size=(3, 3), stride=(1, 1), padding=(1, 1), bias=False)\n",
      "      (bn1): BatchNorm2d(96, eps=1e-05, momentum=0.1, affine=True, track_running_stats=True)\n",
      "      (relu): ReLU(inplace=True)\n",
      "      (conv2): Conv2d(96, 96, kernel_size=(3, 3), stride=(1, 1), padding=(1, 1), bias=False)\n",
      "      (bn2): BatchNorm2d(96, eps=1e-05, momentum=0.1, affine=True, track_running_stats=True)\n",
      "    )\n",
      "    (2): BasicBlock(\n",
      "      (conv1): Conv2d(96, 96, kernel_size=(3, 3), stride=(1, 1), padding=(1, 1), bias=False)\n",
      "      (bn1): BatchNorm2d(96, eps=1e-05, momentum=0.1, affine=True, track_running_stats=True)\n",
      "      (relu): ReLU(inplace=True)\n",
      "      (conv2): Conv2d(96, 96, kernel_size=(3, 3), stride=(1, 1), padding=(1, 1), bias=False)\n",
      "      (bn2): BatchNorm2d(96, eps=1e-05, momentum=0.1, affine=True, track_running_stats=True)\n",
      "    )\n",
      "    (3): BasicBlock(\n",
      "      (conv1): Conv2d(96, 96, kernel_size=(3, 3), stride=(1, 1), padding=(1, 1), bias=False)\n",
      "      (bn1): BatchNorm2d(96, eps=1e-05, momentum=0.1, affine=True, track_running_stats=True)\n",
      "      (relu): ReLU(inplace=True)\n",
      "      (conv2): Conv2d(96, 96, kernel_size=(3, 3), stride=(1, 1), padding=(1, 1), bias=False)\n",
      "      (bn2): BatchNorm2d(96, eps=1e-05, momentum=0.1, affine=True, track_running_stats=True)\n",
      "    )\n",
      "  )\n",
      "  (layer4): Sequential(\n",
      "    (0): BasicBlock(\n",
      "      (conv1): Conv2d(96, 192, kernel_size=(3, 3), stride=(2, 2), padding=(1, 1), bias=False)\n",
      "      (bn1): BatchNorm2d(192, eps=1e-05, momentum=0.1, affine=True, track_running_stats=True)\n",
      "      (relu): ReLU(inplace=True)\n",
      "      (conv2): Conv2d(192, 192, kernel_size=(3, 3), stride=(1, 1), padding=(1, 1), bias=False)\n",
      "      (bn2): BatchNorm2d(192, eps=1e-05, momentum=0.1, affine=True, track_running_stats=True)\n",
      "      (downsample): Sequential(\n",
      "        (0): Conv2d(96, 192, kernel_size=(1, 1), stride=(2, 2), bias=False)\n",
      "        (1): BatchNorm2d(192, eps=1e-05, momentum=0.1, affine=True, track_running_stats=True)\n",
      "      )\n",
      "    )\n",
      "    (1): BasicBlock(\n",
      "      (conv1): Conv2d(192, 192, kernel_size=(3, 3), stride=(1, 1), padding=(1, 1), bias=False)\n",
      "      (bn1): BatchNorm2d(192, eps=1e-05, momentum=0.1, affine=True, track_running_stats=True)\n",
      "      (relu): ReLU(inplace=True)\n",
      "      (conv2): Conv2d(192, 192, kernel_size=(3, 3), stride=(1, 1), padding=(1, 1), bias=False)\n",
      "      (bn2): BatchNorm2d(192, eps=1e-05, momentum=0.1, affine=True, track_running_stats=True)\n",
      "    )\n",
      "  )\n",
      "  (avgpool): AdaptiveAvgPool2d(output_size=(1, 1))\n",
      "  (fc): Linear(in_features=192, out_features=10, bias=True)\n",
      ")\n"
     ]
    }
   ],
   "source": [
    "resnet = small_resnet(10)\n",
    "print(resnet)"
   ],
   "metadata": {
    "collapsed": false,
    "ExecuteTime": {
     "end_time": "2024-05-09T08:17:52.886457600Z",
     "start_time": "2024-05-09T08:17:52.817648600Z"
    }
   },
   "id": "59a3854c9546d8f0",
   "execution_count": 11
  },
  {
   "cell_type": "code",
   "outputs": [],
   "source": [
    "convnet = small_convnet(10).to(device)\n",
    "optimizer = torch.optim.SGD(convnet.parameters(), lr=lr, momentum=momentum, weight_decay=weight_decay)"
   ],
   "metadata": {
    "collapsed": false,
    "ExecuteTime": {
     "end_time": "2024-05-11T08:41:23.502953600Z",
     "start_time": "2024-05-11T08:41:14.640973600Z"
    }
   },
   "id": "4fdebc2313b6b78e",
   "execution_count": 11
  },
  {
   "cell_type": "code",
   "outputs": [
    {
     "name": "stderr",
     "output_type": "stream",
     "text": [
      "                                                                   \r"
     ]
    },
    {
     "name": "stdout",
     "output_type": "stream",
     "text": [
      "Epoch:  0 \tLoss:  1.1759099960327148 \t Val Acc:  0.4404\n"
     ]
    },
    {
     "name": "stderr",
     "output_type": "stream",
     "text": [
      "                                                                   \r"
     ]
    },
    {
     "name": "stdout",
     "output_type": "stream",
     "text": [
      "Epoch:  1 \tLoss:  1.0921499729156494 \t Val Acc:  0.6094\n"
     ]
    },
    {
     "name": "stderr",
     "output_type": "stream",
     "text": [
      "                                                                   \r"
     ]
    },
    {
     "name": "stdout",
     "output_type": "stream",
     "text": [
      "Epoch:  2 \tLoss:  0.8024080395698547 \t Val Acc:  0.6744\n"
     ]
    },
    {
     "name": "stderr",
     "output_type": "stream",
     "text": [
      "                                                                   \r"
     ]
    },
    {
     "name": "stdout",
     "output_type": "stream",
     "text": [
      "Epoch:  3 \tLoss:  0.6916362047195435 \t Val Acc:  0.7331\n"
     ]
    },
    {
     "name": "stderr",
     "output_type": "stream",
     "text": [
      "                                                                   \r"
     ]
    },
    {
     "name": "stdout",
     "output_type": "stream",
     "text": [
      "Epoch:  4 \tLoss:  0.770905613899231 \t Val Acc:  0.7545\n"
     ]
    },
    {
     "name": "stderr",
     "output_type": "stream",
     "text": [
      "                                                                   \r"
     ]
    },
    {
     "name": "stdout",
     "output_type": "stream",
     "text": [
      "Epoch:  5 \tLoss:  0.6693576574325562 \t Val Acc:  0.7487\n"
     ]
    },
    {
     "name": "stderr",
     "output_type": "stream",
     "text": [
      "                                                                   \r"
     ]
    },
    {
     "name": "stdout",
     "output_type": "stream",
     "text": [
      "Epoch:  6 \tLoss:  0.9677740931510925 \t Val Acc:  0.7794\n"
     ]
    },
    {
     "name": "stderr",
     "output_type": "stream",
     "text": [
      "                                                                   \r"
     ]
    },
    {
     "name": "stdout",
     "output_type": "stream",
     "text": [
      "Epoch:  7 \tLoss:  0.6405037641525269 \t Val Acc:  0.79\n"
     ]
    },
    {
     "name": "stderr",
     "output_type": "stream",
     "text": [
      "                                                                   \r"
     ]
    },
    {
     "name": "stdout",
     "output_type": "stream",
     "text": [
      "Epoch:  8 \tLoss:  0.5057550668716431 \t Val Acc:  0.8027\n"
     ]
    },
    {
     "name": "stderr",
     "output_type": "stream",
     "text": [
      "                                                                   \r"
     ]
    },
    {
     "name": "stdout",
     "output_type": "stream",
     "text": [
      "Epoch:  9 \tLoss:  0.5558398365974426 \t Val Acc:  0.8009\n"
     ]
    },
    {
     "name": "stderr",
     "output_type": "stream",
     "text": [
      "                                                                    \r"
     ]
    },
    {
     "name": "stdout",
     "output_type": "stream",
     "text": [
      "Epoch:  10 \tLoss:  0.7113592624664307 \t Val Acc:  0.8204\n"
     ]
    },
    {
     "name": "stderr",
     "output_type": "stream",
     "text": [
      "                                                                    \r"
     ]
    },
    {
     "name": "stdout",
     "output_type": "stream",
     "text": [
      "Epoch:  11 \tLoss:  0.4360276460647583 \t Val Acc:  0.8243\n"
     ]
    },
    {
     "name": "stderr",
     "output_type": "stream",
     "text": [
      "                                                                    \r"
     ]
    },
    {
     "name": "stdout",
     "output_type": "stream",
     "text": [
      "Epoch:  12 \tLoss:  0.7503141760826111 \t Val Acc:  0.8183\n"
     ]
    },
    {
     "name": "stderr",
     "output_type": "stream",
     "text": [
      "                                                                    \r"
     ]
    },
    {
     "name": "stdout",
     "output_type": "stream",
     "text": [
      "Epoch:  13 \tLoss:  0.3289914131164551 \t Val Acc:  0.8302\n"
     ]
    },
    {
     "name": "stderr",
     "output_type": "stream",
     "text": [
      "                                                                    \r"
     ]
    },
    {
     "name": "stdout",
     "output_type": "stream",
     "text": [
      "Epoch:  14 \tLoss:  0.518165647983551 \t Val Acc:  0.825\n"
     ]
    },
    {
     "name": "stderr",
     "output_type": "stream",
     "text": [
      "                                                                    \r"
     ]
    },
    {
     "name": "stdout",
     "output_type": "stream",
     "text": [
      "Epoch:  15 \tLoss:  0.2824261784553528 \t Val Acc:  0.8352\n"
     ]
    },
    {
     "name": "stderr",
     "output_type": "stream",
     "text": [
      "                                                                    \r"
     ]
    },
    {
     "name": "stdout",
     "output_type": "stream",
     "text": [
      "Epoch:  16 \tLoss:  0.372333288192749 \t Val Acc:  0.8399\n"
     ]
    },
    {
     "name": "stderr",
     "output_type": "stream",
     "text": [
      "                                                                    \r"
     ]
    },
    {
     "name": "stdout",
     "output_type": "stream",
     "text": [
      "Epoch:  17 \tLoss:  0.35966816544532776 \t Val Acc:  0.8426\n"
     ]
    },
    {
     "name": "stderr",
     "output_type": "stream",
     "text": [
      "                                                                    \r"
     ]
    },
    {
     "name": "stdout",
     "output_type": "stream",
     "text": [
      "Epoch:  18 \tLoss:  0.3777752220630646 \t Val Acc:  0.8474\n"
     ]
    },
    {
     "name": "stderr",
     "output_type": "stream",
     "text": [
      "                                                                    \r"
     ]
    },
    {
     "name": "stdout",
     "output_type": "stream",
     "text": [
      "Epoch:  19 \tLoss:  0.2962604761123657 \t Val Acc:  0.8433\n"
     ]
    },
    {
     "name": "stderr",
     "output_type": "stream",
     "text": [
      "                                                                    \r"
     ]
    },
    {
     "name": "stdout",
     "output_type": "stream",
     "text": [
      "Epoch:  20 \tLoss:  0.2046871930360794 \t Val Acc:  0.8473\n"
     ]
    },
    {
     "name": "stderr",
     "output_type": "stream",
     "text": [
      "                                                                    \r"
     ]
    },
    {
     "name": "stdout",
     "output_type": "stream",
     "text": [
      "Epoch:  21 \tLoss:  0.3088526725769043 \t Val Acc:  0.8546\n"
     ]
    },
    {
     "name": "stderr",
     "output_type": "stream",
     "text": [
      "                                                                    \r"
     ]
    },
    {
     "name": "stdout",
     "output_type": "stream",
     "text": [
      "Epoch:  22 \tLoss:  0.44791194796562195 \t Val Acc:  0.8471\n"
     ]
    },
    {
     "name": "stderr",
     "output_type": "stream",
     "text": [
      "                                                                    \r"
     ]
    },
    {
     "name": "stdout",
     "output_type": "stream",
     "text": [
      "Epoch:  23 \tLoss:  0.2582497000694275 \t Val Acc:  0.8546\n"
     ]
    },
    {
     "name": "stderr",
     "output_type": "stream",
     "text": [
      "                                                                    \r"
     ]
    },
    {
     "name": "stdout",
     "output_type": "stream",
     "text": [
      "Epoch:  24 \tLoss:  0.4267876446247101 \t Val Acc:  0.8544\n"
     ]
    },
    {
     "name": "stderr",
     "output_type": "stream",
     "text": [
      "                                                             \r"
     ]
    },
    {
     "name": "stdout",
     "output_type": "stream",
     "text": [
      "Accuracy report on TEST:\n",
      "               precision    recall  f1-score   support\n",
      "\n",
      "           0      0.920     0.826     0.870      1000\n",
      "           1      0.953     0.929     0.941      1000\n",
      "           2      0.761     0.867     0.811      1000\n",
      "           3      0.696     0.800     0.744      1000\n",
      "           4      0.851     0.831     0.841      1000\n",
      "           5      0.887     0.707     0.787      1000\n",
      "           6      0.854     0.916     0.884      1000\n",
      "           7      0.925     0.873     0.898      1000\n",
      "           8      0.877     0.948     0.911      1000\n",
      "           9      0.948     0.917     0.932      1000\n",
      "\n",
      "    accuracy                          0.861     10000\n",
      "   macro avg      0.867     0.861     0.862     10000\n",
      "weighted avg      0.867     0.861     0.862     10000\n"
     ]
    },
    {
     "data": {
      "text/plain": "<Figure size 1600x800 with 2 Axes>",
      "image/png": "[encoded data removed]"
     },
     "metadata": {},
     "output_type": "display_data"
    }
   ],
   "source": [
    "losses_and_accs = []\n",
    "for epoch in range(epochs):\n",
    "    loss = train_epoch(convnet, trainloader, optimizer, epoch, device=device)\n",
    "    (val_acc, _) = evaluate_model(convnet, valloader, device=device)\n",
    "    losses_and_accs.append((loss, val_acc))\n",
    "    print('Epoch: ', epoch, '\\tLoss: ', loss, '\\t Val Acc: ', val_acc)\n",
    "# And finally plot the curves.\n",
    "plot_validation_curves(losses_and_accs)\n",
    "print(f'Accuracy report on TEST:\\n {evaluate_model(convnet, testloader, device=device)[1]}')\n",
    "    "
   ],
   "metadata": {
    "collapsed": false,
    "ExecuteTime": {
     "end_time": "2024-05-11T09:02:19.073665300Z",
     "start_time": "2024-05-11T08:41:38.153354900Z"
    }
   },
   "id": "69832b67d09bb6cc",
   "execution_count": 12
  },
  {
   "cell_type": "markdown",
   "source": [
    "## GradCAM\n",
    "\n",
    "First we implement the GradCAM which returns the saliency map that we are interested in. It receives in input a model and a target_layer of the network to study the saliency map. Firstly we hook both the activations and the gradients of the target layer. This is necessary since PyTorch only caches the gradients of the leaf nodes in the computational graph, such as weights, biases and other parameters, the gradients of the output with respect to the activations are merely intermediate values and are discarded as soon as the gradient propagates through them on the way back."
   ],
   "metadata": {
    "collapsed": false
   },
   "id": "4b25c55bcb5383ae"
  },
  {
   "cell_type": "code",
   "outputs": [],
   "source": [
    "class GradCAM(object):\n",
    "   \n",
    "    def __init__(self, model, target_layer, input_size, verbose=False):\n",
    "        \"\"\"\n",
    "        Args:\n",
    "            input: model architecture to perform GradCAM\n",
    "            target_layer: the last layer of the network where we apply GradCAM to obtain the saliency map\n",
    "        \"\"\"\n",
    "        self.model_arch = model\n",
    "\n",
    "        self.gradients = dict()\n",
    "        self.activations = dict()\n",
    "        def backward_hook(module, grad_input, grad_output):\n",
    "            self.gradients['value'] = grad_output[0]\n",
    "            return None\n",
    "        def forward_hook(module, input, output):\n",
    "            self.activations['value'] = output\n",
    "            return None\n",
    "\n",
    "\n",
    "        target_layer.register_forward_hook(forward_hook) # Save the activations of the target layer during forward pass\n",
    "        target_layer.register_backward_hook(backward_hook) # Save gradients of the target layer during backward pass \n",
    "\n",
    "        if verbose:\n",
    "            device = 'cuda' if next(self.model_arch.parameters()).is_cuda else 'cpu'\n",
    "            self.model_arch(torch.zeros(1, 3, *(input_size), device=device))\n",
    "            print('saliency_map size :', self.activations['value'].shape[2:])\n",
    "\n",
    "\n",
    "    def forward(self, input, class_idx=None, retain_graph=False):\n",
    "        \"\"\"\n",
    "        Args:\n",
    "            input: input image with shape of (1, 3, H, W)\n",
    "            class_idx (int): class index for calculating GradCAM.\n",
    "                    If not specified, the class index that makes the highest model prediction score will be used.\n",
    "        Return:\n",
    "            mask: saliency map of the same spatial dimension with input\n",
    "            logit: model output\n",
    "        \"\"\"\n",
    "        b, c, h, w = input.size()\n",
    "\n",
    "        logit = self.model_arch(input)\n",
    "        if class_idx is None:\n",
    "            score = logit[:, logit.max(1)[-1]].squeeze()\n",
    "        else:\n",
    "            score = logit[:, class_idx].squeeze()\n",
    "\n",
    "        self.model_arch.zero_grad()\n",
    "        score.backward(retain_graph=retain_graph)\n",
    "        gradients = self.gradients['value']\n",
    "        activations = self.activations['value']\n",
    "        b, k, u, v = gradients.size()\n",
    "\n",
    "        alpha = gradients.view(b, k, -1).mean(2)\n",
    "        #alpha = F.relu(gradients.view(b, k, -1)).mean(2)\n",
    "        weights = alpha.view(b, k, 1, 1)\n",
    "\n",
    "        saliency_map = (weights*activations).sum(1, keepdim=True)\n",
    "        saliency_map = F.relu(saliency_map)\n",
    "        saliency_map = F.interpolate(saliency_map, size=(h, w), mode='bilinear', align_corners=False)\n",
    "        saliency_map_min, saliency_map_max = saliency_map.min(), saliency_map.max()\n",
    "        saliency_map = (saliency_map - saliency_map_min).div(saliency_map_max - saliency_map_min).data\n",
    "\n",
    "        return saliency_map, logit\n",
    "\n",
    "    def __call__(self, input, class_idx=None, retain_graph=False):\n",
    "        return self.forward(input, class_idx, retain_graph)\n",
    "\n",
    "\n"
   ],
   "metadata": {
    "collapsed": false,
    "ExecuteTime": {
     "end_time": "2024-05-11T09:10:53.275466400Z",
     "start_time": "2024-05-11T09:10:53.242466100Z"
    }
   },
   "id": "60fd8242d7292f2e",
   "execution_count": 22
  },
  {
   "cell_type": "code",
   "outputs": [],
   "source": [
    "def visualize_cam(mask, img):\n",
    "    \"\"\"Make heatmap from mask and synthesize GradCAM result image using heatmap and img.\n",
    "    Args:\n",
    "        mask (torch.tensor): mask shape of (1, 1, H, W) and each element has value in range [0, 1]\n",
    "        img (torch.tensor): img shape of (1, 3, H, W) and each pixel value is in range [0, 1]\n",
    "\n",
    "    Return:\n",
    "        heatmap (torch.tensor): heatmap img shape of (3, H, W)\n",
    "        result (torch.tensor): synthesized GradCAM result of same shape with heatmap.\n",
    "    \"\"\"\n",
    "    heatmap = cv2.applyColorMap(np.uint8(255 * mask.squeeze()), cv2.COLORMAP_JET)\n",
    "    heatmap = torch.from_numpy(heatmap).permute(2, 0, 1).float().div(255)\n",
    "    b, g, r = heatmap.split(1)\n",
    "    heatmap = torch.cat([r, g, b])\n",
    "\n",
    "    result = heatmap+img.cpu()\n",
    "    result = result.div(result.max()).squeeze()\n",
    "\n",
    "    return heatmap, result\n"
   ],
   "metadata": {
    "collapsed": false,
    "ExecuteTime": {
     "end_time": "2024-05-11T09:09:00.439388700Z",
     "start_time": "2024-05-11T09:09:00.386877500Z"
    }
   },
   "id": "3c6993cb8bb0ada3",
   "execution_count": 14
  },
  {
   "cell_type": "code",
   "outputs": [],
   "source": [
    "# get the image from the dataloader\n",
    "img, _ = next(iter(testloader))\n",
    "img = img[10, :,:, :].unsqueeze(0)"
   ],
   "metadata": {
    "collapsed": false,
    "ExecuteTime": {
     "end_time": "2024-05-11T09:12:09.430007Z",
     "start_time": "2024-05-11T09:12:00.729924200Z"
    }
   },
   "id": "3ca92807121e08fa",
   "execution_count": 28
  },
  {
   "cell_type": "code",
   "outputs": [],
   "source": [
    "class UnNormalize(object):\n",
    "    def __init__(self, mean, std):\n",
    "        self.mean = mean\n",
    "        self.std = std\n",
    "\n",
    "    def __call__(self, tensor):\n",
    "        \"\"\"\n",
    "        Args:\n",
    "            tensor (Tensor): Tensor image of size (C, H, W) to be normalized.\n",
    "        Returns:\n",
    "            Tensor: Normalized image.\n",
    "        \"\"\"\n",
    "        for t, m, s in zip(tensor, self.mean, self.std):\n",
    "            t.mul_(s).add_(m)\n",
    "            # The normalize code -> t.sub_(m).div_(s)\n",
    "        return tensor\n",
    "    \n",
    "unorm = UnNormalize(mean=(0.4914, 0.4822, 0.4465), std=(0.2023, 0.1994, 0.2010))"
   ],
   "metadata": {
    "collapsed": false,
    "ExecuteTime": {
     "end_time": "2024-05-11T09:09:19.276314700Z",
     "start_time": "2024-05-11T09:09:19.250305400Z"
    }
   },
   "id": "beab500d53e11772",
   "execution_count": 16
  },
  {
   "cell_type": "code",
   "outputs": [
    {
     "name": "stdout",
     "output_type": "stream",
     "text": [
      "saliency_map size : torch.Size([4, 4])\n"
     ]
    }
   ],
   "source": [
    "convnet.eval()\n",
    "gradcam = GradCAM(model=convnet, target_layer=convnet.layer4[0].bn2, input_size=(32, 32), verbose=True)\n",
    "\n",
    "images = []\n",
    "\n",
    "mask, _ = gradcam(img.to(device))\n",
    "heatmap, result = visualize_cam(mask.cpu(), unorm(img.cpu()))"
   ],
   "metadata": {
    "collapsed": false,
    "ExecuteTime": {
     "end_time": "2024-05-11T09:12:09.481514200Z",
     "start_time": "2024-05-11T09:12:09.434007Z"
    }
   },
   "id": "9ca1a8782bb2e39c",
   "execution_count": 29
  },
  {
   "cell_type": "code",
   "outputs": [
    {
     "data": {
      "text/plain": "<Figure size 640x480 with 3 Axes>",
      "image/png": "[encoded data removed]"
     },
     "metadata": {},
     "output_type": "display_data"
    }
   ],
   "source": [
    "_, axarr = plt.subplots(1,3)\n",
    "axarr[0].imshow(np.transpose(img.squeeze().numpy(), (1, 2, 0)))\n",
    "axarr[1].imshow(np.transpose(heatmap, (1, 2, 0)))\n",
    "axarr[2].imshow(np.transpose(result, (1, 2, 0)))\n",
    "plt.show()"
   ],
   "metadata": {
    "collapsed": false,
    "ExecuteTime": {
     "end_time": "2024-05-11T09:12:31.014435300Z",
     "start_time": "2024-05-11T09:12:30.785680800Z"
    }
   },
   "id": "4f13e4a062b57104",
   "execution_count": 31
  }
 ],
 "metadata": {
  "kernelspec": {
   "display_name": "Python 3",
   "language": "python",
   "name": "python3"
  },
  "language_info": {
   "codemirror_mode": {
    "name": "ipython",
    "version": 2
   },
   "file_extension": ".py",
   "mimetype": "text/x-python",
   "name": "python",
   "nbconvert_exporter": "python",
   "pygments_lexer": "ipython2",
   "version": "2.7.6"
  }
 },
 "nbformat": 4,
 "nbformat_minor": 5
}
