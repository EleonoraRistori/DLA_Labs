{
 "cells": [
  {
   "cell_type": "markdown",
   "source": [
    "# Exercise 2.2: Fully-convolutionalize a network.\n",
    "**Fully-convolutionalize** a traditional convolutional neural network. That is, turn it into a network that can predict classification outputs at *all* pixels in an input image. Can you turn this into a **detector** of handwritten digits? Give it a try.\n",
    "\n",
    "**Hint 1**: Sometimes the process of fully-convolutionalization is called \"network surgery\".\n",
    "\n",
    "**Hint 2**: To test your fully-convolutionalized networks you might want to write some functions to take random MNIST samples and embed them into a larger image (i.e. in a regular grid or at random positions)."
   ],
   "metadata": {
    "collapsed": false
   },
   "id": "a83914a3a2875537"
  },
  {
   "cell_type": "markdown",
   "source": [
    "### Training a traditional convolutional neural network\n",
    "In the first part of this notebook we trained a traditional neural network as in exercise 1 on MNIST."
   ],
   "metadata": {
    "collapsed": false
   },
   "id": "f3c1a4b97a1d7c82"
  },
  {
   "cell_type": "code",
   "outputs": [],
   "source": [
    "import numpy as np\n",
    "import matplotlib.pyplot as plt\n",
    "from functools import reduce\n",
    "import torch\n",
    "from torch.utils.tensorboard import SummaryWriter\n",
    "import wandb\n",
    "from torchvision.datasets import MNIST\n",
    "from torch.utils.data import Subset\n",
    "import torch.nn as nn\n",
    "import torch.nn.functional as F\n",
    "import torchvision\n",
    "import torchvision.transforms as transforms\n",
    "import wandb\n",
    "from typing import Any, Callable, List, Optional, Type, Union\n",
    "from torch import Tensor"
   ],
   "metadata": {
    "collapsed": false,
    "ExecuteTime": {
     "end_time": "2024-05-27T15:27:55.992349600Z",
     "start_time": "2024-05-27T15:27:44.790631100Z"
    }
   },
   "id": "a9d274598f4bd560",
   "execution_count": 1
  },
  {
   "cell_type": "code",
   "outputs": [],
   "source": [
    "batch_size = 64\n",
    "lr = 0.0001\n",
    "momentum = 0.9\n",
    "weight_decay = 1e-04\n",
    "epochs = 10\n",
    "WANDB = False\n",
    "criterion = nn.CrossEntropyLoss()\n",
    "if torch.cuda.is_available():\n",
    "    device = torch.device(\"cuda\")  # to use the GPU\n",
    "else:\n",
    "    device = torch.device(\"cpu\")"
   ],
   "metadata": {
    "collapsed": false,
    "ExecuteTime": {
     "end_time": "2024-05-27T16:12:57.893275Z",
     "start_time": "2024-05-27T16:12:57.859768700Z"
    }
   },
   "id": "initial_id",
   "execution_count": 33
  },
  {
   "cell_type": "markdown",
   "source": [
    "#### Data preparation\n",
    "\n",
    "Here we load MNIST dataset, creating a validation splitting evaluate the models during training."
   ],
   "metadata": {
    "collapsed": false
   },
   "id": "562235e3d1282de3"
  },
  {
   "cell_type": "code",
   "outputs": [],
   "source": [
    "# Standard MNIST transform.\n",
    "transform = transforms.Compose([\n",
    "    transforms.ToTensor(),\n",
    "    transforms.Normalize((0.1307,), (0.3081,))\n",
    "])\n",
    "\n",
    "# Load MNIST train and test.\n",
    "ds_train = MNIST(root='./data', train=True, download=True, transform=transform)\n",
    "ds_test = MNIST(root='./data', train=False, download=True, transform=transform)\n",
    "\n",
    "# Split train into train and validation.\n",
    "val_size = 5000\n",
    "I = np.random.permutation(len(ds_train))\n",
    "ds_val = Subset(ds_train, I[:val_size])\n",
    "ds_train = Subset(ds_train, I[val_size:])\n",
    "\n",
    "# Dataloaders.\n",
    "trainloader = torch.utils.data.DataLoader(ds_train, batch_size, shuffle=True, num_workers=0)\n",
    "valloader   = torch.utils.data.DataLoader(ds_val, batch_size, num_workers=4)\n",
    "testloader  = torch.utils.data.DataLoader(ds_test, batch_size, shuffle=True, num_workers=0)\n"
   ],
   "metadata": {
    "collapsed": false,
    "ExecuteTime": {
     "end_time": "2024-05-27T16:13:02.498709500Z",
     "start_time": "2024-05-27T16:13:02.388202800Z"
    }
   },
   "id": "b9f53b36034344fb",
   "execution_count": 34
  },
  {
   "cell_type": "markdown",
   "source": [
    "#### Training and evaluation Functions \n",
    "\n",
    "Training, evaluation, and plotting code. The final method counts the number of trainable parameters in the network."
   ],
   "metadata": {
    "collapsed": false
   },
   "id": "3ae8a1bd844b2fa6"
  },
  {
   "cell_type": "code",
   "outputs": [],
   "source": [
    "from tqdm import tqdm\n",
    "from sklearn.metrics import accuracy_score, classification_report\n",
    "\n",
    "\n",
    "# Function to train a model for a single epoch over the data loader.\n",
    "def train_epoch(model, dl, opt, criterion, epoch='Unknown', device='cpu', fully_conv=False):\n",
    "    model.train()\n",
    "    losses = []\n",
    "    for (xs, ys) in tqdm(dl, desc=f'Training epoch {epoch}', leave=True):\n",
    "        xs = xs.to(device)\n",
    "        ys = ys.to(device)\n",
    "        opt.zero_grad()\n",
    "        logits = model(xs)\n",
    "        if fully_conv:\n",
    "            _, _, a, b = logits.shape\n",
    "            gts = ys.unsqueeze(-1).unsqueeze(-1).repeat(1,a,b)\n",
    "            loss = criterion(logits, gts)\n",
    "        else:\n",
    "            loss = criterion(logits, ys)\n",
    "        loss.backward()\n",
    "        opt.step()\n",
    "        losses.append(loss.item())\n",
    "    if WANDB:\n",
    "        wandb.log({'Train Loss': np.mean(losses)})\n",
    "    else:\n",
    "        return np.mean(losses)\n",
    "\n",
    "\n",
    "# Function to evaluate model over all samples in the data loader.\n",
    "def evaluate_model(model, dl, criterion, device='cpu', val=False):\n",
    "    model.eval()\n",
    "    test_loss = 0\n",
    "    predictions = []\n",
    "    gts = []\n",
    "    for (xs, ys) in tqdm(dl, desc='Evaluating', leave=False):\n",
    "        xs = xs.to(device)\n",
    "        output = model(xs)\n",
    "        preds = torch.argmax(output, dim=1)\n",
    "        test_loss += criterion(output, ys.to(device)).item()\n",
    "        gts.append(ys)\n",
    "        predictions.append(preds.detach().cpu().numpy())\n",
    "    mode = \"Val\" if val else \"Test\"\n",
    "    if not val:\n",
    "        print('\\{} set: Average loss: {:.4f}, Accuracy: {:.0f}%\\n'.format(\n",
    "            mode,\n",
    "            test_loss/len(dl), accuracy_score(np.hstack(gts), np.hstack(predictions))))   \n",
    "    # Return accuracy score and classification report.\n",
    "    if WANDB:\n",
    "        wandb.log({'Test Loss': test_loss / len(dl),\n",
    "                   'Test Accuracy': round(accuracy_score(np.hstack(gts), np.hstack(predictions)), 2)})\n",
    "    else:\n",
    "        return (accuracy_score(np.hstack(gts), np.hstack(predictions)),\n",
    "            classification_report(np.hstack(gts), np.hstack(predictions), zero_division=0, digits=3))\n",
    "\n",
    "\n",
    "# Simple function to plot the loss curve and validation accuracy.\n",
    "def plot_validation_curves(losses_and_accs):\n",
    "    losses = [x for (x, _) in losses_and_accs]\n",
    "    accs = [x for (_, x) in losses_and_accs]\n",
    "    plt.figure(figsize=(16, 8))\n",
    "    plt.subplot(1, 2, 1)\n",
    "    plt.plot(losses)\n",
    "    plt.xlabel('Epoch')\n",
    "    plt.ylabel('Loss')\n",
    "    plt.title('Average Training Loss per Epoch')\n",
    "    plt.subplot(1, 2, 2)\n",
    "    plt.plot(accs)\n",
    "    plt.xlabel('Epoch')\n",
    "    plt.ylabel('Validation Accuracy')\n",
    "    plt.title(f'Best Accuracy = {np.max(accs)} @ epoch {np.argmax(accs)}')\n",
    "\n",
    "\n",
    "def count_trainable_parameters(model):\n",
    "    return sum(p.numel() for p in model.parameters() if p.requires_grad)"
   ],
   "metadata": {
    "collapsed": false,
    "ExecuteTime": {
     "end_time": "2024-05-27T16:13:04.010694600Z",
     "start_time": "2024-05-27T16:13:03.951187100Z"
    }
   },
   "id": "ba1390c10b06cd7b",
   "execution_count": 35
  },
  {
   "cell_type": "markdown",
   "source": [
    "#### Main model backbone"
   ],
   "metadata": {
    "collapsed": false
   },
   "id": "5bbd0b13e9adb563"
  },
  {
   "cell_type": "code",
   "outputs": [],
   "source": [
    "class CNN(nn.Module):\n",
    "    def __init__(self, input_channels, output_dim = 10):\n",
    "        super().__init__()\n",
    "        hidden_dim = 32\n",
    "        self.conv1 = nn.Conv2d(input_channels, hidden_dim, kernel_size=3, stride = 2, padding=1)\n",
    "        self.conv2 = nn.Conv2d(hidden_dim, hidden_dim * 2, kernel_size=3, stride = 2, padding=1)\n",
    "        self.conv3 = nn.Conv2d(hidden_dim * 2, hidden_dim * 4, kernel_size=3, stride = 1, padding=1)\n",
    "        self.conv4 = nn.Conv2d(hidden_dim * 4, hidden_dim * 8, kernel_size=3, stride = 1, padding=1)\n",
    "        self.classifier = nn.Sequential(\n",
    "            nn.Linear(12544, 256),\n",
    "            nn.ReLU(),\n",
    "            nn.Linear(256, output_dim)\n",
    "        )\n",
    "\n",
    "    def forward(self, x):\n",
    "        x = F.relu(self.conv1(x))\n",
    "        x = F.relu(self.conv2(x))\n",
    "        x = F.relu(self.conv3(x))\n",
    "        x = F.relu(self.conv4(x))\n",
    "        return self.classifier(x.flatten(1))"
   ],
   "metadata": {
    "collapsed": false,
    "ExecuteTime": {
     "end_time": "2024-05-27T16:13:05.576029900Z",
     "start_time": "2024-05-27T16:13:05.535031900Z"
    }
   },
   "id": "ca78eae89581bd6a",
   "execution_count": 36
  },
  {
   "cell_type": "markdown",
   "source": [
    "#### Training the main model\n",
    "Here we train the traditional CNN to classify MNIST digits."
   ],
   "metadata": {
    "collapsed": false
   },
   "id": "f5ce2683a8e27e22"
  },
  {
   "cell_type": "code",
   "outputs": [
    {
     "name": "stdout",
     "output_type": "stream",
     "text": [
      "CNN(\n",
      "  (conv1): Conv2d(1, 32, kernel_size=(3, 3), stride=(2, 2), padding=(1, 1))\n",
      "  (conv2): Conv2d(32, 64, kernel_size=(3, 3), stride=(2, 2), padding=(1, 1))\n",
      "  (conv3): Conv2d(64, 128, kernel_size=(3, 3), stride=(1, 1), padding=(1, 1))\n",
      "  (conv4): Conv2d(128, 256, kernel_size=(3, 3), stride=(1, 1), padding=(1, 1))\n",
      "  (classifier): Sequential(\n",
      "    (0): Linear(in_features=12544, out_features=256, bias=True)\n",
      "    (1): ReLU()\n",
      "    (2): Linear(in_features=256, out_features=10, bias=True)\n",
      "  )\n",
      ")\n"
     ]
    }
   ],
   "source": [
    "convnet = CNN(1, 10).to(device)\n",
    "print(convnet)"
   ],
   "metadata": {
    "collapsed": false,
    "ExecuteTime": {
     "end_time": "2024-05-27T16:13:07.644921500Z",
     "start_time": "2024-05-27T16:13:07.573791400Z"
    }
   },
   "id": "503527aa7f882d7b",
   "execution_count": 37
  },
  {
   "cell_type": "code",
   "outputs": [],
   "source": [
    "convnet = torch.load('models/FullyConvolutionalNetwork/convnet.pth')"
   ],
   "metadata": {
    "collapsed": false,
    "ExecuteTime": {
     "end_time": "2024-05-27T15:35:53.367333900Z",
     "start_time": "2024-05-27T15:35:53.296206100Z"
    }
   },
   "id": "bc146307b209a7a1",
   "execution_count": 8
  },
  {
   "cell_type": "code",
   "outputs": [
    {
     "name": "stderr",
     "output_type": "stream",
     "text": [
      "Training epoch 1: 100%|██████████| 860/860 [00:19<00:00, 43.97it/s]\n",
      "Training epoch 2: 100%|██████████| 860/860 [00:20<00:00, 41.27it/s]\n",
      "Training epoch 3: 100%|██████████| 860/860 [00:21<00:00, 39.91it/s]\n",
      "Training epoch 4: 100%|██████████| 860/860 [00:21<00:00, 39.56it/s]\n",
      "Training epoch 5: 100%|██████████| 860/860 [00:21<00:00, 39.18it/s]\n",
      "Training epoch 6: 100%|██████████| 860/860 [00:21<00:00, 39.59it/s]\n",
      "Training epoch 7: 100%|██████████| 860/860 [00:21<00:00, 39.55it/s]\n",
      "Training epoch 8: 100%|██████████| 860/860 [00:21<00:00, 39.47it/s]\n",
      "Training epoch 9: 100%|██████████| 860/860 [00:21<00:00, 39.69it/s]\n",
      "Training epoch 10: 100%|██████████| 860/860 [00:22<00:00, 39.03it/s]\n",
      "                                                           \r"
     ]
    }
   ],
   "source": [
    "optimizer = torch.optim.Adam(params=convnet.parameters(), lr=lr)\n",
    "criterion = nn.CrossEntropyLoss()\n",
    "losses_and_accs = []\n",
    "for epoch in range(1, epochs+1):\n",
    "    loss = train_epoch(convnet, trainloader, optimizer, criterion, epoch, device=device)\n",
    "    # evaluate_model(convnet, valloader, criterion, device=device, val=True)   \n",
    "    (val_acc, _) = evaluate_model(convnet, valloader, criterion, device=device, val=True) \n",
    "    losses_and_accs.append((loss, val_acc))"
   ],
   "metadata": {
    "collapsed": false,
    "ExecuteTime": {
     "end_time": "2024-05-27T16:17:57.799172100Z",
     "start_time": "2024-05-27T16:13:20.732229800Z"
    }
   },
   "id": "2593b235be5775fd",
   "execution_count": 38
  },
  {
   "cell_type": "code",
   "outputs": [
    {
     "name": "stderr",
     "output_type": "stream",
     "text": [
      "                                                             "
     ]
    },
    {
     "name": "stdout",
     "output_type": "stream",
     "text": [
      "\\Test set: Average loss: 0.0461, Accuracy: 1%\n"
     ]
    },
    {
     "name": "stderr",
     "output_type": "stream",
     "text": [
      "\r"
     ]
    },
    {
     "data": {
      "text/plain": "(0.9869,\n '              precision    recall  f1-score   support\\n\\n           0      0.993     0.995     0.994       980\\n           1      0.996     0.992     0.994      1135\\n           2      0.987     0.995     0.991      1032\\n           3      0.978     0.992     0.985      1010\\n           4      0.994     0.983     0.988       982\\n           5      0.966     0.989     0.977       892\\n           6      0.992     0.975     0.983       958\\n           7      0.985     0.991     0.988      1028\\n           8      0.996     0.977     0.987       974\\n           9      0.982     0.978     0.980      1009\\n\\n    accuracy                          0.987     10000\\n   macro avg      0.987     0.987     0.987     10000\\nweighted avg      0.987     0.987     0.987     10000\\n')"
     },
     "execution_count": 40,
     "metadata": {},
     "output_type": "execute_result"
    },
    {
     "data": {
      "text/plain": "<Figure size 1600x800 with 2 Axes>",
      "image/png": "[encoded data removed]"
     },
     "metadata": {},
     "output_type": "display_data"
    }
   ],
   "source": [
    "plot_validation_curves(losses_and_accs)\n",
    "evaluate_model(convnet, testloader, criterion, device=device, val=False)"
   ],
   "metadata": {
    "collapsed": false,
    "ExecuteTime": {
     "end_time": "2024-05-27T16:20:54.102285600Z",
     "start_time": "2024-05-27T16:20:49.307573300Z"
    }
   },
   "id": "1a24c9d96ccdd71e",
   "execution_count": 40
  },
  {
   "cell_type": "code",
   "outputs": [],
   "source": [
    "torch.save(convnet, 'models/FullyConvolutionalNetwork/convnet.pth')"
   ],
   "metadata": {
    "collapsed": false,
    "ExecuteTime": {
     "end_time": "2024-05-27T16:20:59.666483800Z",
     "start_time": "2024-05-27T16:20:59.602967600Z"
    }
   },
   "id": "141cbeb977789c97",
   "execution_count": 41
  },
  {
   "cell_type": "markdown",
   "source": [
    "### Fully convolutional model\n",
    "Here we create a fully convolutional network which uses the feature representation of the previous network and produces a prediction for each pixel."
   ],
   "metadata": {
    "collapsed": false
   },
   "id": "b972c35246a1937"
  },
  {
   "cell_type": "code",
   "outputs": [],
   "source": [
    "class FCN(nn.Module):\n",
    "\n",
    "    def __init__(self, pretrained_net, n_class):\n",
    "        super().__init__()\n",
    "        self.n_class = n_class\n",
    "        self.pretrained_net = nn.Sequential(*list(pretrained_net.children())[:-1])\n",
    "        self.relu    = nn.ReLU(inplace=True)\n",
    "        self.deconv1 = nn.ConvTranspose2d(256, 128, kernel_size=3, stride=2, padding=1, dilation=1, output_padding=1)\n",
    "        self.bn1     = nn.BatchNorm2d(128)\n",
    "        self.deconv2 = nn.ConvTranspose2d(128, 64, kernel_size=3, stride=2, padding=1, dilation=1, output_padding=1)\n",
    "        self.bn2     = nn.BatchNorm2d(64)\n",
    "        self.classifier = nn.Conv2d(64, n_class, kernel_size=1)\n",
    "\n",
    "    def forward(self, x):\n",
    "        output = self.pretrained_net(x)\n",
    "        score = self.bn1(self.relu(self.deconv1(output)))    \n",
    "        score = self.bn2(self.relu(self.deconv2(score)))  \n",
    "        score = self.classifier(score)                    \n",
    "        return score  "
   ],
   "metadata": {
    "collapsed": false,
    "ExecuteTime": {
     "end_time": "2024-05-27T16:21:02.444027800Z",
     "start_time": "2024-05-27T16:21:02.400513500Z"
    }
   },
   "id": "e169435ccd283e28",
   "execution_count": 42
  },
  {
   "cell_type": "code",
   "outputs": [
    {
     "name": "stdout",
     "output_type": "stream",
     "text": [
      "Sequential(\n",
      "  (0): Conv2d(1, 32, kernel_size=(3, 3), stride=(2, 2), padding=(1, 1))\n",
      "  (1): Conv2d(32, 64, kernel_size=(3, 3), stride=(2, 2), padding=(1, 1))\n",
      "  (2): Conv2d(64, 128, kernel_size=(3, 3), stride=(1, 1), padding=(1, 1))\n",
      "  (3): Conv2d(128, 256, kernel_size=(3, 3), stride=(1, 1), padding=(1, 1))\n",
      ")\n"
     ]
    }
   ],
   "source": [
    "print(nn.Sequential(*list(convnet.children())[:-1]))"
   ],
   "metadata": {
    "collapsed": false,
    "ExecuteTime": {
     "end_time": "2024-05-12T16:22:22.934484900Z",
     "start_time": "2024-05-12T16:22:22.908490500Z"
    }
   },
   "id": "a43307fabaa4d5e6",
   "execution_count": 102
  },
  {
   "cell_type": "code",
   "outputs": [
    {
     "data": {
      "text/plain": "369866"
     },
     "execution_count": 51,
     "metadata": {},
     "output_type": "execute_result"
    }
   ],
   "source": [
    "fcn_model = FCN(convnet, 10).to(device)\n",
    "count_trainable_parameters(fcn_model)"
   ],
   "metadata": {
    "collapsed": false,
    "ExecuteTime": {
     "end_time": "2024-05-27T16:29:21.863859100Z",
     "start_time": "2024-05-27T16:29:21.803353400Z"
    }
   },
   "id": "d5f894e530646188",
   "execution_count": 51
  },
  {
   "cell_type": "code",
   "outputs": [],
   "source": [
    "fcn_model = torch.load('models/FullyConvolutionalNetwork/fcn_model.pth')"
   ],
   "metadata": {
    "collapsed": false,
    "ExecuteTime": {
     "end_time": "2024-05-27T10:55:21.333039500Z",
     "start_time": "2024-05-27T10:55:21.265514500Z"
    }
   },
   "id": "826cac6134e17f2a",
   "execution_count": 15
  },
  {
   "cell_type": "code",
   "outputs": [
    {
     "data": {
      "text/plain": "757706"
     },
     "execution_count": 63,
     "metadata": {},
     "output_type": "execute_result"
    }
   ],
   "source": [
    "for param in fcn_model.pretrained_net.parameters():\n",
    "        param.requires_grad = False\n",
    "count_trainable_parameters(fcn_model)"
   ],
   "metadata": {
    "collapsed": false,
    "ExecuteTime": {
     "end_time": "2024-05-27T16:44:19.385811100Z",
     "start_time": "2024-05-27T16:44:19.304033Z"
    }
   },
   "id": "2a8000a641ec1384",
   "execution_count": 63
  },
  {
   "cell_type": "code",
   "outputs": [],
   "source": [
    "optimizer = torch.optim.Adam(fcn_model.parameters(), lr=lr)\n",
    "criterion = nn.CrossEntropyLoss()"
   ],
   "metadata": {
    "collapsed": false,
    "ExecuteTime": {
     "end_time": "2024-05-27T16:29:30.853863Z",
     "start_time": "2024-05-27T16:29:30.818861900Z"
    }
   },
   "id": "54b0abbcabf5fd56",
   "execution_count": 53
  },
  {
   "cell_type": "code",
   "outputs": [
    {
     "name": "stderr",
     "output_type": "stream",
     "text": [
      "Training epoch 0: 100%|██████████| 860/860 [00:24<00:00, 34.53it/s]\n",
      "Training epoch 1: 100%|██████████| 860/860 [00:26<00:00, 32.67it/s]\n",
      "Training epoch 2: 100%|██████████| 860/860 [00:26<00:00, 32.30it/s]\n",
      "Training epoch 3: 100%|██████████| 860/860 [00:26<00:00, 32.08it/s]\n",
      "Training epoch 4: 100%|██████████| 860/860 [00:27<00:00, 30.85it/s]\n",
      "Training epoch 5: 100%|██████████| 860/860 [00:27<00:00, 30.96it/s]\n",
      "Training epoch 6: 100%|██████████| 860/860 [00:30<00:00, 28.49it/s]\n",
      "Training epoch 7: 100%|██████████| 860/860 [00:28<00:00, 30.30it/s]\n",
      "Training epoch 8: 100%|██████████| 860/860 [00:30<00:00, 28.05it/s]\n",
      "Training epoch 9: 100%|██████████| 860/860 [00:28<00:00, 29.82it/s]"
     ]
    },
    {
     "name": "stdout",
     "output_type": "stream",
     "text": [
      "Finished Training\n"
     ]
    },
    {
     "name": "stderr",
     "output_type": "stream",
     "text": [
      "\n"
     ]
    }
   ],
   "source": [
    "for epoch in range(10):  # Loop over the dataset multiple times\n",
    "    train_epoch(fcn_model, trainloader, optimizer, criterion, epoch, device=device, fully_conv=True)\n",
    "\n",
    "print('Finished Training')"
   ],
   "metadata": {
    "collapsed": false,
    "ExecuteTime": {
     "end_time": "2024-05-27T16:56:38.587642500Z",
     "start_time": "2024-05-27T16:52:00.103759100Z"
    }
   },
   "id": "f8e165ac20772995",
   "execution_count": 77
  },
  {
   "cell_type": "code",
   "outputs": [],
   "source": [
    "torch.save(fcn_model, 'models/FullyConvolutionalNetwork/fcn_model.pth')"
   ],
   "metadata": {
    "collapsed": false,
    "ExecuteTime": {
     "end_time": "2024-05-27T16:51:56.418755600Z",
     "start_time": "2024-05-27T16:51:56.374740800Z"
    }
   },
   "id": "e7fa03ed46badaa5",
   "execution_count": 76
  },
  {
   "cell_type": "markdown",
   "source": [
    "### Evaluate on multisize images\n",
    "Here we show the outputs of the obtained network on a dataset that incorporates the MNIST digits in a random position of a larger image."
   ],
   "metadata": {
    "collapsed": false
   },
   "id": "af52814c13232c28"
  },
  {
   "cell_type": "code",
   "outputs": [],
   "source": [
    "from torch.utils.data import Dataset\n",
    "from PIL import Image\n",
    "\n",
    "class MultiSizeMNIST(Dataset):\n",
    "    def __init__(self, root, train=True, transform=None, target_transform=None, download=False, image_size=32):\n",
    "        super().__init__()\n",
    "        self.dataset = MNIST(root, train, transform, target_transform, download)\n",
    "        self.transform = transform\n",
    "        self.image_size = image_size\n",
    "\n",
    "    def __getitem__(self, index):\n",
    "        img, target = self.dataset[index]\n",
    "        #make a new image and place the original image somewhere in the new image\n",
    "        new_img = Image.new('1', (self.image_size, self.image_size), 0)\n",
    "        convert_to_pil = transforms.ToPILImage()\n",
    "        new_img = self.transform(new_img)\n",
    "        #sum the two tensors but img is shifted by 16 pixels\n",
    "        #pick two random numbers between 0 and 32\n",
    "        x = np.random.randint(0, self.image_size - 28)\n",
    "        y = np.random.randint(0, self.image_size - 28)\n",
    "        #sum two tensors of different shape\n",
    "       # print(new_img.shape, img.shape)\n",
    "        new_img[:,x:x+28, y:y+28] = img\n",
    "        return new_img, target, x, y\n",
    "    def __len__(self):\n",
    "        return len(self.dataset)"
   ],
   "metadata": {
    "collapsed": false,
    "ExecuteTime": {
     "end_time": "2024-05-27T16:56:49.960583300Z",
     "start_time": "2024-05-27T16:56:49.912000700Z"
    }
   },
   "id": "4098d6153393e4e7",
   "execution_count": 78
  },
  {
   "cell_type": "code",
   "outputs": [
    {
     "data": {
      "text/plain": "<Figure size 640x480 with 1 Axes>",
      "image/png": "[encoded data removed]"
     },
     "metadata": {},
     "output_type": "display_data"
    }
   ],
   "source": [
    "transform = transforms.Compose([\n",
    "    transforms.ToTensor(),\n",
    "    transforms.Normalize((0.1307,), (0.3081,))\n",
    "])\n",
    "mnist_alt = MultiSizeMNIST(root='./data', train=False, download=True, transform=transform, image_size=64)\n",
    "#print an image from the dataset\n",
    "img, target, _, _ = mnist_alt[23]\n",
    "img = img.permute(1,2,0)\n",
    "plt.imshow(img, cmap='gray')\n",
    "plt.title(target)\n",
    "plt.show()"
   ],
   "metadata": {
    "collapsed": false,
    "ExecuteTime": {
     "end_time": "2024-05-27T16:57:05.677019600Z",
     "start_time": "2024-05-27T16:57:05.448856200Z"
    }
   },
   "id": "4f3aa72a7908b868",
   "execution_count": 80
  },
  {
   "cell_type": "code",
   "outputs": [
    {
     "name": "stdout",
     "output_type": "stream",
     "text": [
      "10000\n"
     ]
    }
   ],
   "source": [
    "print(len(mnist_alt))"
   ],
   "metadata": {
    "collapsed": false,
    "ExecuteTime": {
     "end_time": "2024-05-12T16:31:23.039579500Z",
     "start_time": "2024-05-12T16:31:23.008579700Z"
    }
   },
   "id": "e39b7ea27f8790be",
   "execution_count": 110
  },
  {
   "cell_type": "code",
   "outputs": [
    {
     "data": {
      "text/plain": "<Figure size 500x500 with 1 Axes>",
      "image/png": "[encoded data removed]"
     },
     "metadata": {},
     "output_type": "display_data"
    }
   ],
   "source": [
    "for i in range(1):\n",
    "    img, _, _, _= mnist_alt[i]\n",
    "    img = img.unsqueeze(0).to(device)\n",
    "    output = fcn_model(img)\n",
    "    pred = torch.argmax(output, 1).squeeze()\n",
    "    # plt.figure(figsize=(5,5))\n",
    "    # plt.imshow(img.cpu().squeeze().numpy(), cmap = 'gray')\n",
    "\n",
    "\n",
    "    plt.figure(figsize=(5,5))\n",
    "    plt.imshow(img.cpu().squeeze().numpy(), cmap = 'gray')\n",
    "    for i in range(3, pred.shape[0], 4):\n",
    "        for j in range(3, pred.shape[1], 4):\n",
    "            plt.text(j, i, str(pred[i,j].item()),ha='center', va='center', color = 'red', fontsize = 12)\n",
    "    break\n"
   ],
   "metadata": {
    "collapsed": false,
    "ExecuteTime": {
     "end_time": "2024-05-12T19:32:32.951973100Z",
     "start_time": "2024-05-12T19:32:31.664678400Z"
    }
   },
   "id": "43b6c2bf7c7f6595",
   "execution_count": 148
  },
  {
   "cell_type": "markdown",
   "source": [
    "The above image shows the results of the predictions made by our network. (The image shows a prediction every 4 pixels to have a clearer layout). Interestingly, the network produces the correct output for most pixels of the 28x28 MNIST digit, while it predicts 1 on all the others. This results seems to suggest that where there is no image of a digit the network outputs the class of the smaller (in terms of # of black pixels) digit of the dataset"
   ],
   "metadata": {
    "collapsed": false
   },
   "id": "8addbd472bf7966f"
  },
  {
   "cell_type": "markdown",
   "source": [
    "### Multi-image MNIST\n",
    "In this case we replicate the same experiment but the dataset incorporates 2 digits inside a larger image. As s"
   ],
   "metadata": {
    "collapsed": false
   },
   "id": "8885fdc1ca7a5787"
  },
  {
   "cell_type": "code",
   "outputs": [],
   "source": [
    "class MultiImageMNIST(Dataset):\n",
    "    def __init__(self, root, train=True, transform=None, target_transform=None, download=False, image_size=56):\n",
    "        super().__init__()\n",
    "        self.dataset = MNIST(root, train, transform, target_transform, download)\n",
    "        self.transform = transform\n",
    "        self.image_size = image_size\n",
    "\n",
    "    def __getitem__(self, index):\n",
    "        img, target = self.dataset[index]\n",
    "        img2, target2 = self.dataset[np.random.randint(0, len(self.dataset))]  \n",
    "        #make a new image and place the original image somewhere in the new image\n",
    "        new_img = Image.new('1', (self.image_size, self.image_size), 0)\n",
    "        convert_to_pil = transforms.ToPILImage()\n",
    "        new_img = self.transform(new_img)\n",
    "        #sum the two tensors but img is shifted by 16 pixels\n",
    "        #pick two random numbers between 0 and 32\n",
    "        x = np.random.randint(0, self.image_size//2 - 28  + 1)\n",
    "        y = np.random.randint(0, self.image_size - 28)\n",
    "        #sum two tensors of different shape\n",
    "        #print(new_img.shape, img.shape)\n",
    "        new_img[:,x:x+28, y:y+28] = img\n",
    "        x = np.random.randint(self.image_size//2, self.image_size - 28 + 1)\n",
    "        y = np.random.randint(0, self.image_size - 28)\n",
    "        new_img[:,x:x+28, y:y+28] = img2\n",
    "        # new_img = convert_to_pil(new_img)\n",
    "        return new_img, target, target2\n",
    "    \n",
    "    def __len__(self):\n",
    "        return len(self.dataset)"
   ],
   "metadata": {
    "collapsed": false,
    "ExecuteTime": {
     "end_time": "2024-05-27T16:57:37.498672300Z",
     "start_time": "2024-05-27T16:57:37.462122700Z"
    }
   },
   "id": "c295e3a72d455451",
   "execution_count": 83
  },
  {
   "cell_type": "code",
   "outputs": [
    {
     "data": {
      "text/plain": "<Figure size 640x480 with 1 Axes>",
      "image/png": "[encoded data removed]"
     },
     "metadata": {},
     "output_type": "display_data"
    }
   ],
   "source": [
    "transform = transforms.Compose([\n",
    "    transforms.ToTensor(),\n",
    "    transforms.Normalize((0.1307,), (0.3081,))\n",
    "])\n",
    "mnist_alt = MultiImageMNIST(root='./data', train=False, download=True, transform=transform, image_size=64)\n",
    "#print an image from the dataset\n",
    "img, target, target2 = mnist_alt[23]\n",
    "img = img.permute(1,2,0)\n",
    "plt.imshow(img, cmap='gray')\n",
    "plt.title(target)\n",
    "plt.show()"
   ],
   "metadata": {
    "collapsed": false,
    "ExecuteTime": {
     "end_time": "2024-05-27T16:57:39.742531100Z",
     "start_time": "2024-05-27T16:57:39.509332Z"
    }
   },
   "id": "d779e15b646f573d",
   "execution_count": 84
  },
  {
   "cell_type": "code",
   "outputs": [
    {
     "data": {
      "text/plain": "<Figure size 500x500 with 1 Axes>",
      "image/png": "[encoded data removed]"
     },
     "metadata": {},
     "output_type": "display_data"
    }
   ],
   "source": [
    "for i in range(1):\n",
    "    img, _, _= mnist_alt[i]\n",
    "    img = img.unsqueeze(0).to(device)\n",
    "    output = fcn_model(img)\n",
    "    pred = torch.argmax(output, 1).squeeze()\n",
    "    # plt.figure(figsize=(5,5))\n",
    "    # plt.imshow(img.cpu().squeeze().numpy(), cmap = 'gray')\n",
    "\n",
    "\n",
    "    plt.figure(figsize=(5,5))\n",
    "    plt.imshow(img.cpu().squeeze().numpy(), cmap = 'gray')\n",
    "    for i in range(3, pred.shape[0], 4):\n",
    "        for j in range(3, pred.shape[1], 4):\n",
    "            plt.text(j, i, str(pred[i,j].item()),ha='center', va='center', color = 'red', fontsize = 12)\n",
    "    break\n"
   ],
   "metadata": {
    "collapsed": false,
    "ExecuteTime": {
     "end_time": "2024-05-27T16:58:41.566192600Z",
     "start_time": "2024-05-27T16:58:40.041146600Z"
    }
   },
   "id": "d665c60dabaee2e9",
   "execution_count": 88
  }
 ],
 "metadata": {
  "kernelspec": {
   "display_name": "Python 3",
   "language": "python",
   "name": "python3"
  },
  "language_info": {
   "codemirror_mode": {
    "name": "ipython",
    "version": 2
   },
   "file_extension": ".py",
   "mimetype": "text/x-python",
   "name": "python",
   "nbconvert_exporter": "python",
   "pygments_lexer": "ipython2",
   "version": "2.7.6"
  }
 },
 "nbformat": 4,
 "nbformat_minor": 5
}
